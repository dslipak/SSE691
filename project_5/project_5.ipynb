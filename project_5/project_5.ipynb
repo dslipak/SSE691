{
 "cells": [
  {
   "cell_type": "code",
   "execution_count": 47,
   "metadata": {
    "collapsed": false
   },
   "outputs": [
    {
     "name": "stdout",
     "output_type": "stream",
     "text": [
      "year  sex\n",
      "1910  F      15596\n",
      "      M       8993\n",
      "1911  F      15013\n",
      "      M       8949\n",
      "1912  F      19796\n",
      "      M      14633\n",
      "1913  F      20634\n",
      "      M      16449\n",
      "1914  F      25035\n",
      "      M      21004\n",
      "1915  F      29019\n",
      "      M      24648\n",
      "1916  F      31345\n",
      "      M      26124\n",
      "1917  F      31238\n",
      "      M      26183\n",
      "1918  F      34325\n",
      "      M      29235\n",
      "1919  F      37146\n",
      "      M      31019\n",
      "1920  F      37373\n",
      "      M      32046\n",
      "1921  F      36529\n",
      "      M      31199\n",
      "1922  F      37372\n",
      "      M      30762\n",
      "1923  F      34430\n",
      "      M      28259\n",
      "1924  F      34331\n",
      "      M      27836\n",
      "             ...  \n",
      "2001  F      48211\n",
      "      M      55570\n",
      "2002  F      48381\n",
      "      M      55786\n",
      "2003  F      49712\n",
      "      M      57126\n",
      "2004  F      50495\n",
      "      M      58295\n",
      "2005  F      51330\n",
      "      M      59671\n",
      "2006  F      53778\n",
      "      M      62370\n",
      "2007  F      54153\n",
      "      M      63001\n",
      "2008  F      52734\n",
      "      M      61083\n",
      "2009  F      50624\n",
      "      M      58938\n",
      "2010  F      47842\n",
      "      M      55749\n",
      "2011  F      47581\n",
      "      M      54819\n",
      "2012  F      47150\n",
      "      M      53839\n",
      "2013  F      46357\n",
      "      M      53467\n",
      "2014  F      47975\n",
      "      M      54706\n",
      "2015  F      48287\n",
      "      M      54514\n",
      "Name: number, dtype: int64\n"
     ]
    }
   ],
   "source": [
    "import pandas as pd\n",
    "\n",
    "if __name__ == \"__main__\":\n",
    "    df = pd.read_csv(\"namesGA.csv\")\n",
    "    print(df.groupby([\"year\", \"sex\"]).number.sum())\n"
   ]
  },
  {
   "cell_type": "code",
   "execution_count": null,
   "metadata": {
    "collapsed": true
   },
   "outputs": [],
   "source": []
  }
 ],
 "metadata": {
  "anaconda-cloud": {},
  "kernelspec": {
   "display_name": "Python [conda root]",
   "language": "python",
   "name": "conda-root-py"
  },
  "language_info": {
   "codemirror_mode": {
    "name": "ipython",
    "version": 3
   },
   "file_extension": ".py",
   "mimetype": "text/x-python",
   "name": "python",
   "nbconvert_exporter": "python",
   "pygments_lexer": "ipython3",
   "version": "3.5.2"
  }
 },
 "nbformat": 4,
 "nbformat_minor": 1
}
